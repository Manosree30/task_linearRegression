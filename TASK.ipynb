{
 "cells": [
  {
   "cell_type": "code",
   "execution_count": 3,
   "id": "bce9c06d",
   "metadata": {},
   "outputs": [],
   "source": [
    "\n",
    "import pandas as pd\n",
    "import numpy as np\n",
    "from sklearn.linear_model import LinearRegression\n",
    "from sklearn.model_selection import train_test_split\n",
    "from sklearn.metrics import mean_squared_error, r2_score\n",
    "\n"
   ]
  },
  {
   "cell_type": "code",
   "execution_count": 4,
   "id": "04c6dbd9",
   "metadata": {},
   "outputs": [
    {
     "data": {
      "text/html": [
       "<div>\n",
       "<style scoped>\n",
       "    .dataframe tbody tr th:only-of-type {\n",
       "        vertical-align: middle;\n",
       "    }\n",
       "\n",
       "    .dataframe tbody tr th {\n",
       "        vertical-align: top;\n",
       "    }\n",
       "\n",
       "    .dataframe thead th {\n",
       "        text-align: right;\n",
       "    }\n",
       "</style>\n",
       "<table border=\"1\" class=\"dataframe\">\n",
       "  <thead>\n",
       "    <tr style=\"text-align: right;\">\n",
       "      <th></th>\n",
       "      <th>hours</th>\n",
       "      <th>score</th>\n",
       "    </tr>\n",
       "  </thead>\n",
       "  <tbody>\n",
       "    <tr>\n",
       "      <th>0</th>\n",
       "      <td>5.939322</td>\n",
       "      <td>79.188121</td>\n",
       "    </tr>\n",
       "    <tr>\n",
       "      <th>1</th>\n",
       "      <td>7.436704</td>\n",
       "      <td>87.279918</td>\n",
       "    </tr>\n",
       "    <tr>\n",
       "      <th>2</th>\n",
       "      <td>6.424870</td>\n",
       "      <td>91.372308</td>\n",
       "    </tr>\n",
       "    <tr>\n",
       "      <th>3</th>\n",
       "      <td>5.903949</td>\n",
       "      <td>78.448910</td>\n",
       "    </tr>\n",
       "    <tr>\n",
       "      <th>4</th>\n",
       "      <td>4.812893</td>\n",
       "      <td>71.569383</td>\n",
       "    </tr>\n",
       "  </tbody>\n",
       "</table>\n",
       "</div>"
      ],
      "text/plain": [
       "      hours      score\n",
       "0  5.939322  79.188121\n",
       "1  7.436704  87.279918\n",
       "2  6.424870  91.372308\n",
       "3  5.903949  78.448910\n",
       "4  4.812893  71.569383"
      ]
     },
     "execution_count": 4,
     "metadata": {},
     "output_type": "execute_result"
    }
   ],
   "source": [
    "\n",
    "df = pd.read_csv('study_hours_score.csv')\n",
    "df.head()"
   ]
  },
  {
   "cell_type": "code",
   "execution_count": 8,
   "id": "2ca56b57",
   "metadata": {},
   "outputs": [
    {
     "name": "stdout",
     "output_type": "stream",
     "text": [
      "Coefficient (slope): 4.903247319350496\n",
      "Intercept: 50.626030178169984\n",
      "R^2 Score: 0.8958409432798161\n",
      "Predicted score for 9 hours: 94.76\n"
     ]
    }
   ],
   "source": [
    "x = df[['hours']]  # feature\n",
    "y = df['score']    # target\n",
    "\n",
    "# Train model on all data\n",
    "model = LinearRegression()\n",
    "\n",
    "\n",
    "x_train, x_test, y_train, y_test = train_test_split(x, y, test_size=0.2, random_state=42)\n",
    "model.fit(x_train, y_train)\n",
    "y_pred = model.predict(x_test)\n",
    "\n",
    "# Check coefficients\n",
    "print('Coefficient (slope):', model.coef_[0])\n",
    "print('Intercept:', model.intercept_)\n",
    "\n",
    "#r2 score\n",
    "print('R^2 Score:', r2_score(y_test, y_pred))\n",
    "\n",
    "# Make a prediction\n",
    "hours = 9\n",
    "pred = model.predict(pd.DataFrame({'hours': [hours]}))[0]\n",
    "print(f'Predicted score for {hours} hours: {pred:.2f}')"
   ]
  },
  {
   "cell_type": "code",
   "execution_count": 10,
   "id": "f7ac7a83",
   "metadata": {},
   "outputs": [
    {
     "data": {
      "text/html": [
       "<div>\n",
       "<style scoped>\n",
       "    .dataframe tbody tr th:only-of-type {\n",
       "        vertical-align: middle;\n",
       "    }\n",
       "\n",
       "    .dataframe tbody tr th {\n",
       "        vertical-align: top;\n",
       "    }\n",
       "\n",
       "    .dataframe thead th {\n",
       "        text-align: right;\n",
       "    }\n",
       "</style>\n",
       "<table border=\"1\" class=\"dataframe\">\n",
       "  <thead>\n",
       "    <tr style=\"text-align: right;\">\n",
       "      <th></th>\n",
       "      <th>size_m2</th>\n",
       "      <th>price</th>\n",
       "    </tr>\n",
       "  </thead>\n",
       "  <tbody>\n",
       "    <tr>\n",
       "      <th>0</th>\n",
       "      <td>186.465316</td>\n",
       "      <td>599022.373692</td>\n",
       "    </tr>\n",
       "    <tr>\n",
       "      <th>1</th>\n",
       "      <td>211.140468</td>\n",
       "      <td>677753.447334</td>\n",
       "    </tr>\n",
       "    <tr>\n",
       "      <th>2</th>\n",
       "      <td>184.285509</td>\n",
       "      <td>619187.225271</td>\n",
       "    </tr>\n",
       "    <tr>\n",
       "      <th>3</th>\n",
       "      <td>134.481499</td>\n",
       "      <td>453492.200820</td>\n",
       "    </tr>\n",
       "    <tr>\n",
       "      <th>4</th>\n",
       "      <td>74.959290</td>\n",
       "      <td>249648.033801</td>\n",
       "    </tr>\n",
       "  </tbody>\n",
       "</table>\n",
       "</div>"
      ],
      "text/plain": [
       "      size_m2          price\n",
       "0  186.465316  599022.373692\n",
       "1  211.140468  677753.447334\n",
       "2  184.285509  619187.225271\n",
       "3  134.481499  453492.200820\n",
       "4   74.959290  249648.033801"
      ]
     },
     "execution_count": 10,
     "metadata": {},
     "output_type": "execute_result"
    }
   ],
   "source": [
    "# House size -> price (simple linear regression)\n",
    "f = pd.read_csv('house_size_price.csv')\n",
    "f.head()"
   ]
  },
  {
   "cell_type": "code",
   "execution_count": 12,
   "id": "403a7b21",
   "metadata": {},
   "outputs": [
    {
     "name": "stdout",
     "output_type": "stream",
     "text": [
      "House size -> price\n",
      "Coefficient: 2955.551956703326\n",
      "Intercept: 57836.64469390432\n",
      "R^2 Score: 0.9870076798470523\n",
      "Predicted price for 120 m2: 412502.88\n"
     ]
    }
   ],
   "source": [
    "x = f[['size_m2']] \n",
    "y = f['price']    \n",
    "\n",
    "model_house = LinearRegression()\n",
    "model_house.fit(x, y)\n",
    "\n",
    "x_test, x_train, y_test, y_train = train_test_split(x, y, test_size=0.2, random_state=42)\n",
    "model_house.fit(x_train, y_train)\n",
    "y_pred = model_house.predict(x_test)\n",
    "# Check coefficient and intercept\n",
    "print('House size -> price')\n",
    "print('Coefficient:', model_house.coef_[0])\n",
    "print('Intercept:', model_house.intercept_)\n",
    "\n",
    "#r2 score\n",
    "print('R^2 Score:', r2_score(y_test, y_pred))\n",
    "# Predict price for 120 m2\n",
    "pred_price = model_house.predict(pd.DataFrame({'size_m2':[120]}))[0]\n",
    "print(f'Predicted price for 120 m2: {pred_price:.2f}')"
   ]
  },
  {
   "cell_type": "code",
   "execution_count": 13,
   "id": "63de6af9",
   "metadata": {},
   "outputs": [
    {
     "data": {
      "text/html": [
       "<div>\n",
       "<style scoped>\n",
       "    .dataframe tbody tr th:only-of-type {\n",
       "        vertical-align: middle;\n",
       "    }\n",
       "\n",
       "    .dataframe tbody tr th {\n",
       "        vertical-align: top;\n",
       "    }\n",
       "\n",
       "    .dataframe thead th {\n",
       "        text-align: right;\n",
       "    }\n",
       "</style>\n",
       "<table border=\"1\" class=\"dataframe\">\n",
       "  <thead>\n",
       "    <tr style=\"text-align: right;\">\n",
       "      <th></th>\n",
       "      <th>experience_years</th>\n",
       "      <th>salary_k</th>\n",
       "    </tr>\n",
       "  </thead>\n",
       "  <tbody>\n",
       "    <tr>\n",
       "      <th>0</th>\n",
       "      <td>6.088383</td>\n",
       "      <td>193.657709</td>\n",
       "    </tr>\n",
       "    <tr>\n",
       "      <th>1</th>\n",
       "      <td>7.109371</td>\n",
       "      <td>206.521482</td>\n",
       "    </tr>\n",
       "    <tr>\n",
       "      <th>2</th>\n",
       "      <td>4.036323</td>\n",
       "      <td>134.513228</td>\n",
       "    </tr>\n",
       "    <tr>\n",
       "      <th>3</th>\n",
       "      <td>9.143522</td>\n",
       "      <td>270.084944</td>\n",
       "    </tr>\n",
       "    <tr>\n",
       "      <th>4</th>\n",
       "      <td>8.196867</td>\n",
       "      <td>240.073159</td>\n",
       "    </tr>\n",
       "  </tbody>\n",
       "</table>\n",
       "</div>"
      ],
      "text/plain": [
       "   experience_years    salary_k\n",
       "0          6.088383  193.657709\n",
       "1          7.109371  206.521482\n",
       "2          4.036323  134.513228\n",
       "3          9.143522  270.084944\n",
       "4          8.196867  240.073159"
      ]
     },
     "execution_count": 13,
     "metadata": {},
     "output_type": "execute_result"
    }
   ],
   "source": [
    "# Experience -> salary (simple linear regression)\n",
    "a = pd.read_csv('salary_experience.csv')\n",
    "a.head()"
   ]
  },
  {
   "cell_type": "code",
   "execution_count": null,
   "id": "2bbf992c",
   "metadata": {},
   "outputs": [
    {
     "name": "stdout",
     "output_type": "stream",
     "text": [
      "Experience -> salary (k)\n",
      "Coefficient: 24.95310136088613\n",
      "Intercept: 30.016066524448632\n",
      "R^2 Score: 0.9987902808227925\n",
      "Predicted salary (k) for 7 years experience: 204.69k\n"
     ]
    }
   ],
   "source": [
    "X= a[['experience_years']]  \n",
    "y = a['salary_k']            \n",
    "\n",
    "# Train model on all data\n",
    "model_ex = LinearRegression()\n",
    "model_ex.fit(X, y)\n",
    "\n",
    "x_test, x_train, y_test, y_train = train_test_split(X, y, test_size=0.2, random_state=42)\n",
    "model_ex.fit(x_train, y_train)\n",
    "y_pred = model_ex.predict(x_test)\n",
    "\n",
    "# Check coefficient and intercept\n",
    "print('Experience -> salary (k)')\n",
    "print('Coefficient:', model_ex.coef_[0])\n",
    "print('Intercept:', model_ex.intercept_)\n",
    "#r2 score\n",
    "print('R^2 Score:', r2_score(y_test, y_pred))\n",
    "\n",
    "# Predict salary for 7 years experience\n",
    "pred_salary = model_ex.predict(pd.DataFrame({'experience_years':[7]}))[0]\n",
    "print(f'Predicted salary (k) for 7 years experience: {pred_salary:.2f}k')"
   ]
  },
  {
   "cell_type": "code",
   "execution_count": 15,
   "id": "6a38c664",
   "metadata": {},
   "outputs": [
    {
     "data": {
      "text/html": [
       "<div>\n",
       "<style scoped>\n",
       "    .dataframe tbody tr th:only-of-type {\n",
       "        vertical-align: middle;\n",
       "    }\n",
       "\n",
       "    .dataframe tbody tr th {\n",
       "        vertical-align: top;\n",
       "    }\n",
       "\n",
       "    .dataframe thead th {\n",
       "        text-align: right;\n",
       "    }\n",
       "</style>\n",
       "<table border=\"1\" class=\"dataframe\">\n",
       "  <thead>\n",
       "    <tr style=\"text-align: right;\">\n",
       "      <th></th>\n",
       "      <th>size_m2</th>\n",
       "      <th>bedrooms</th>\n",
       "      <th>price_k</th>\n",
       "    </tr>\n",
       "  </thead>\n",
       "  <tbody>\n",
       "    <tr>\n",
       "      <th>0</th>\n",
       "      <td>109.174501</td>\n",
       "      <td>3</td>\n",
       "      <td>300.203745</td>\n",
       "    </tr>\n",
       "    <tr>\n",
       "      <th>1</th>\n",
       "      <td>199.391590</td>\n",
       "      <td>2</td>\n",
       "      <td>502.322298</td>\n",
       "    </tr>\n",
       "    <tr>\n",
       "      <th>2</th>\n",
       "      <td>91.950944</td>\n",
       "      <td>3</td>\n",
       "      <td>276.684541</td>\n",
       "    </tr>\n",
       "    <tr>\n",
       "      <th>3</th>\n",
       "      <td>181.138557</td>\n",
       "      <td>3</td>\n",
       "      <td>517.616616</td>\n",
       "    </tr>\n",
       "    <tr>\n",
       "      <th>4</th>\n",
       "      <td>182.531188</td>\n",
       "      <td>1</td>\n",
       "      <td>474.585911</td>\n",
       "    </tr>\n",
       "  </tbody>\n",
       "</table>\n",
       "</div>"
      ],
      "text/plain": [
       "      size_m2  bedrooms     price_k\n",
       "0  109.174501         3  300.203745\n",
       "1  199.391590         2  502.322298\n",
       "2   91.950944         3  276.684541\n",
       "3  181.138557         3  517.616616\n",
       "4  182.531188         1  474.585911"
      ]
     },
     "execution_count": 15,
     "metadata": {},
     "output_type": "execute_result"
    }
   ],
   "source": [
    "# Multi-variable house price dataset\n",
    "b = pd.read_csv('house_price_multi.csv')\n",
    "b.head()"
   ]
  },
  {
   "cell_type": "code",
   "execution_count": 16,
   "id": "e0573825",
   "metadata": {},
   "outputs": [
    {
     "name": "stdout",
     "output_type": "stream",
     "text": [
      "Multi-feature house price (k)\n",
      "Coefficients (size_m2, bedrooms): [ 2.51409078 14.47726574]\n",
      "Intercept: -0.49931787461480326\n",
      "R^2 Score: 0.956027573029473\n",
      "Predicted price (k) for 85 m2, 3 bedrooms: 256.63k\n"
     ]
    }
   ],
   "source": [
    "X = b[['size_m2','bedrooms']] \n",
    "y = b['price_k']               \n",
    "\n",
    "model_multi = LinearRegression()\n",
    "model_multi.fit(X, y)\n",
    "\n",
    "x_train, x_test, y_train, y_test = train_test_split(X, y, test_size=0.2, random_state=42)\n",
    "model_multi.fit(x_train, y_train)\n",
    "y_pred = model_multi.predict(x_test)\n",
    "# Check coefficients and intercept\n",
    "print('Multi-feature house price (k)')\n",
    "print('Coefficients (size_m2, bedrooms):', model_multi.coef_)\n",
    "print('Intercept:', model_multi.intercept_)\n",
    "\n",
    "#r2 score\n",
    "print('R^2 Score:', r2_score(y_test, y_pred))\n",
    "\n",
    "# Predict price for 85 m2 and 3 bedrooms\n",
    "pred_multi = model_multi.predict(pd.DataFrame({'size_m2':[85],'bedrooms':[3]}))[0]\n",
    "print(f'Predicted price (k) for 85 m2, 3 bedrooms: {pred_multi:.2f}k')"
   ]
  },
  {
   "cell_type": "code",
   "execution_count": 18,
   "id": "2dcc9f99",
   "metadata": {},
   "outputs": [
    {
     "data": {
      "text/html": [
       "<div>\n",
       "<style scoped>\n",
       "    .dataframe tbody tr th:only-of-type {\n",
       "        vertical-align: middle;\n",
       "    }\n",
       "\n",
       "    .dataframe tbody tr th {\n",
       "        vertical-align: top;\n",
       "    }\n",
       "\n",
       "    .dataframe thead th {\n",
       "        text-align: right;\n",
       "    }\n",
       "</style>\n",
       "<table border=\"1\" class=\"dataframe\">\n",
       "  <thead>\n",
       "    <tr style=\"text-align: right;\">\n",
       "      <th></th>\n",
       "      <th>TV_spend</th>\n",
       "      <th>radio_spend</th>\n",
       "      <th>social_spend</th>\n",
       "      <th>sales_k</th>\n",
       "    </tr>\n",
       "  </thead>\n",
       "  <tbody>\n",
       "    <tr>\n",
       "      <th>0</th>\n",
       "      <td>249.784924</td>\n",
       "      <td>74.719837</td>\n",
       "      <td>73.151894</td>\n",
       "      <td>78.883010</td>\n",
       "    </tr>\n",
       "    <tr>\n",
       "      <th>1</th>\n",
       "      <td>10.787815</td>\n",
       "      <td>79.863146</td>\n",
       "      <td>40.270630</td>\n",
       "      <td>62.290535</td>\n",
       "    </tr>\n",
       "    <tr>\n",
       "      <th>2</th>\n",
       "      <td>182.323172</td>\n",
       "      <td>44.580558</td>\n",
       "      <td>41.067914</td>\n",
       "      <td>60.213187</td>\n",
       "    </tr>\n",
       "    <tr>\n",
       "      <th>3</th>\n",
       "      <td>69.764240</td>\n",
       "      <td>16.219740</td>\n",
       "      <td>51.516816</td>\n",
       "      <td>48.394849</td>\n",
       "    </tr>\n",
       "    <tr>\n",
       "      <th>4</th>\n",
       "      <td>186.352496</td>\n",
       "      <td>94.056403</td>\n",
       "      <td>70.605392</td>\n",
       "      <td>82.031026</td>\n",
       "    </tr>\n",
       "  </tbody>\n",
       "</table>\n",
       "</div>"
      ],
      "text/plain": [
       "     TV_spend  radio_spend  social_spend    sales_k\n",
       "0  249.784924    74.719837     73.151894  78.883010\n",
       "1   10.787815    79.863146     40.270630  62.290535\n",
       "2  182.323172    44.580558     41.067914  60.213187\n",
       "3   69.764240    16.219740     51.516816  48.394849\n",
       "4  186.352496    94.056403     70.605392  82.031026"
      ]
     },
     "execution_count": 18,
     "metadata": {},
     "output_type": "execute_result"
    }
   ],
   "source": [
    "# Advertising spend -> sales (multivariate)\n",
    "c = pd.read_csv('advertising_sales.csv')\n",
    "c.head()"
   ]
  },
  {
   "cell_type": "code",
   "execution_count": 19,
   "id": "9572a92e",
   "metadata": {},
   "outputs": [
    {
     "name": "stdout",
     "output_type": "stream",
     "text": [
      "Advertising spend -> sales (k)\n",
      "Coefficients (TV, radio, social): [0.0413603  0.29742734 0.19645674]\n",
      "Intercept: 30.091338049585147\n",
      "R^2 Score: 0.9563033186641701\n",
      "Predicted sales (k): 49.76k\n"
     ]
    }
   ],
   "source": [
    "X = c[['TV_spend','radio_spend','social_spend']]  \n",
    "y = c['sales_k']                                  \n",
    "\n",
    "# Train model on all data\n",
    "model_adv = LinearRegression()\n",
    "model_adv.fit(X, y)\n",
    "\n",
    "x_train, x_test, y_train, y_test = train_test_split(X, y, test_size=0.2, random_state=42)\n",
    "model_adv.fit(x_train, y_train)\n",
    "y_pred = model_adv.predict(x_test)\n",
    "\n",
    "# Check coefficients and intercept\n",
    "print('Advertising spend -> sales (k)')\n",
    "print('Coefficients (TV, radio, social):', model_adv.coef_)\n",
    "print('Intercept:', model_adv.intercept_)\n",
    "#r2 score\n",
    "print('R^2 Score:', r2_score(y_test, y_pred))\n",
    "\n",
    "# Predict sales for TV=160, radio=32, social=18\n",
    "pred_sales = model_adv.predict(pd.DataFrame({'TV_spend':[160],\n",
    "                                             'radio_spend':[32],\n",
    "                                             'social_spend':[18]}))[0]\n",
    "print(f'Predicted sales (k): {pred_sales:.2f}k')"
   ]
  }
 ],
 "metadata": {
  "kernelspec": {
   "display_name": "Python 3",
   "language": "python",
   "name": "python3"
  },
  "language_info": {
   "codemirror_mode": {
    "name": "ipython",
    "version": 3
   },
   "file_extension": ".py",
   "mimetype": "text/x-python",
   "name": "python",
   "nbconvert_exporter": "python",
   "pygments_lexer": "ipython3",
   "version": "3.10.18"
  }
 },
 "nbformat": 4,
 "nbformat_minor": 5
}
